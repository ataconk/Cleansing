{
 "cells": [
  {
   "cell_type": "code",
   "execution_count": 199,
   "metadata": {},
   "outputs": [],
   "source": [
    "import re \n",
    "import os\n",
    "import nltk\n",
    "from nameparser.parser import HumanName\n",
    "import pandas as pd\n",
    "\n"
   ]
  },
  {
   "cell_type": "heading",
   "metadata": {},
   "level": 1,
   "source": [
    "Open the file"
   ]
  },
  {
   "cell_type": "code",
   "execution_count": 200,
   "metadata": {},
   "outputs": [],
   "source": [
    "def open_file(file_path):\n",
    "    with open(file_path, 'r') as file:\n",
    "        filedata = file.read()\n",
    "    return filedata\n",
    "\n",
    "filedata = open_file('file.txt')"
   ]
  },
  {
   "cell_type": "heading",
   "metadata": {},
   "level": 1,
   "source": [
    "E_mail Cleaner"
   ]
  },
  {
   "cell_type": "code",
   "execution_count": 201,
   "metadata": {},
   "outputs": [],
   "source": [
    "def get_email(file_name):\n",
    "    email_list = re.findall(r'[\\w\\.-]+@[\\w\\.-]+', file_name)\n",
    "    return email_list\n",
    "def e_mail_cleaner(liste, text, masker='***mailAddress***'):\n",
    "    for key in liste:\n",
    "            text = text.replace(key,masker)\n",
    "    return text\n",
    "\n",
    "    \n"
   ]
  },
  {
   "cell_type": "heading",
   "metadata": {},
   "level": 1,
   "source": [
    "Name&Surname Detector and Cleaner"
   ]
  },
  {
   "cell_type": "code",
   "execution_count": 202,
   "metadata": {},
   "outputs": [],
   "source": [
    "def get_human_names(text):\n",
    "    tokens = nltk.tokenize.word_tokenize(text)\n",
    "    pos = nltk.pos_tag(tokens)\n",
    "    sentt = nltk.ne_chunk(pos, binary = False)\n",
    "    person_list = []\n",
    "    person = []\n",
    "    name = \"\"\n",
    "    for subtree in sentt.subtrees(filter=lambda t: t.label() == 'PERSON'):\n",
    "        for leaf in subtree.leaves():\n",
    "            person.append(leaf[0])\n",
    "        if len(person) > 1:\n",
    "            for part in person:\n",
    "                name += part + ' '\n",
    "            if name[:-1] not in person_list:\n",
    "                person_list.append(name[:-1])\n",
    "            name = ''\n",
    "        person = []\n",
    "    \n",
    "    return person_list\n",
    "\n",
    "def name_cleaner(name_list, text,masker= '***Name_Surname***'):\n",
    "    for key in name_list:\n",
    "            text = text.replace(key,masker)\n",
    "\n",
    "    return text"
   ]
  },
  {
   "cell_type": "heading",
   "metadata": {},
   "level": 4,
   "source": [
    "Phone Number Cleaner"
   ]
  },
  {
   "cell_type": "code",
   "execution_count": 203,
   "metadata": {},
   "outputs": [],
   "source": [
    "def get_phone_nums(file_name):\n",
    "    phone_list = re.findall(r'(\\d{3}[-\\.\\s]??\\d{3}[-\\.\\s]??\\d{4}|\\(\\d{3}\\)\\s*\\d{3}[-\\.\\s]??\\d{4}|\\d{3}[-\\.\\s]??\\d{4}|\\d{3}[-\\.\\s]??\\d{3}[-\\.\\s]??\\d{2}[-\\.\\s]??\\d{2})', file_name)\n",
    "    return phone_list\n",
    "def phone_num_cleaner(file_name,liste, masker='***phoneNumber***'):\n",
    "   \n",
    "    phone_list = re.findall(r'(\\d{3}[-\\.\\s]??\\d{3}[-\\.\\s]??\\d{4}|\\(\\d{3}\\)\\s*\\d{3}[-\\.\\s]??\\d{4}|\\d{3}[-\\.\\s]??\\d{4}|\\d{3}[-\\.\\s]??\\d{3}[-\\.\\s]??\\d{2}[-\\.\\s]??\\d{2})', file_name)\n",
    "    for key in phone_list:\n",
    "            liste.append(key)\n",
    "            file_name = file_name.replace(key, masker )\n",
    "    return file_name"
   ]
  },
  {
   "cell_type": "code",
   "execution_count": 204,
   "metadata": {},
   "outputs": [],
   "source": [
    "email= get_email(filedata)\n",
    "filedata = e_mail_cleaner(email, filedata, '***mail_Adress***')\n",
    "\n",
    "names= get_human_names(filedata)\n",
    "filedata= name_cleaner(names, filedata)\n",
    "\n",
    "phones= get_phone_nums(filedata)\n",
    "filedata= phone_num_cleaner( filedata, phones)\n"
   ]
  },
  {
   "cell_type": "code",
   "execution_count": 207,
   "metadata": {},
   "outputs": [
    {
     "data": {
      "text/plain": [
       "['5542397588',\n '5542397588',\n '5542397588',\n '5542397588',\n '5542397588',\n '5542397588']"
      ]
     },
     "execution_count": 207,
     "metadata": {},
     "output_type": "execute_result"
    }
   ],
   "source": [
    "email\n",
    "names\n",
    "phones\n",
    "\n"
   ]
  }
 ],
 "metadata": {},
 "nbformat": 4,
 "nbformat_minor": 0
}
